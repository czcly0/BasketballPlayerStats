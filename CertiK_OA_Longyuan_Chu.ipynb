{
  "nbformat": 4,
  "nbformat_minor": 0,
  "metadata": {
    "kernelspec": {
      "display_name": "python3.8.4",
      "language": "python",
      "name": "python3.8.4"
    },
    "language_info": {
      "codemirror_mode": {
        "name": "ipython",
        "version": 3
      },
      "file_extension": ".py",
      "mimetype": "text/x-python",
      "name": "python",
      "nbconvert_exporter": "python",
      "pygments_lexer": "ipython3",
      "version": "3.8.4"
    },
    "colab": {
      "name": "CertiK OA - Longyuan Chu.ipynb",
      "provenance": [],
      "include_colab_link": true
    }
  },
  "cells": [
    {
      "cell_type": "markdown",
      "metadata": {
        "id": "view-in-github",
        "colab_type": "text"
      },
      "source": [
        "<a href=\"https://colab.research.google.com/github/czcly0/BasketballPlayerStats/blob/master/CertiK_OA_Longyuan_Chu.ipynb\" target=\"_parent\"><img src=\"https://colab.research.google.com/assets/colab-badge.svg\" alt=\"Open In Colab\"/></a>"
      ]
    },
    {
      "cell_type": "markdown",
      "metadata": {
        "id": "CWfkCeWFCwTG"
      },
      "source": [
        "## Exercise 1. Finding the nonce. "
      ]
    },
    {
      "cell_type": "markdown",
      "metadata": {
        "id": "T9CYGj_WCwTI"
      },
      "source": [
        "### Steps\n",
        "    1, input a string\n",
        "    2, randomly generate a nonce whose length is 100 - length of input, and concatenate the input and the nonce \n",
        "    3, compute the SHA265 hash of the result of step one and check if it starts with 4 ‘0’s\n",
        "            3.1, if so, we get the result\n",
        "            3.2, if not, repeat step 2 and step 3"
      ]
    },
    {
      "cell_type": "code",
      "metadata": {
        "id": "5R6CgnNFCwTJ",
        "outputId": "6276640e-091c-4abf-bbbd-e6dfdf7bcbdf"
      },
      "source": [
        "import random\n",
        "import string\n",
        "import hashlib\n",
        "\n",
        "# verify if the hash given is satisfied of the given difficulty\n",
        "def isValid(hashRes):\n",
        "    return hashRes.startswith('0' * 4)\n",
        "\n",
        "# randomly generate a string with the given length\n",
        "def nonce_generator(size = 100, chars=string.ascii_uppercase + string.digits):\n",
        "    return ''.join(random.choice(chars) for _ in range(size))\n",
        "\n",
        "def findNonce(string):\n",
        "    nonce = '0'\n",
        "    hashRes = '0'\n",
        "    while (not isValid(hashRes)):\n",
        "        nonce = nonce_generator(100 - len(string))\n",
        "        ipt = string + nonce\n",
        "        hashRes = hashlib.sha256(ipt.encode()).hexdigest()\n",
        "    return nonce, hashRes\n",
        "\n",
        "string = 'a'\n",
        "nonce, hashRes = findNonce(string)\n",
        "print(nonce)\n",
        "print(hashRes)"
      ],
      "execution_count": null,
      "outputs": [
        {
          "output_type": "stream",
          "text": [
            "7P5PJVP9KVI3MFL246H9R93PE8IFA626QJWXS1O8D5EBTKB652DRDXYX1IBSKYRQFTYV6XMQSX1515QDFTUELX2FTA0WSY4LR6Z\n",
            "0000483f31711101d4382da4a8ba478d5aee3f268e85a45242cb9485da8327b1\n"
          ],
          "name": "stdout"
        }
      ]
    },
    {
      "cell_type": "markdown",
      "metadata": {
        "id": "bD20pmseCwTL"
      },
      "source": [
        "## Exercise 2. Constructing and verifying a blockchain"
      ]
    },
    {
      "cell_type": "markdown",
      "metadata": {
        "id": "2OgKVg6bCwTM"
      },
      "source": [
        "### Descriptions:\n",
        "    1, Construct two classes, Block and Blockchain, for the future using\n",
        "        1.1, Block\n",
        "            1.1.1, Attributes: hashcode of previous block, the id of miner, the final nonce\n",
        "            1.1.2, Method: compute_hash: a function to compute the hashcode of current string\n",
        "        1.2, Blockchain\n",
        "            1.2.1, Attributes: \n",
        "                1.2.1.1, chain → a list that contains all blocks computed so far\n",
        "                1.2.1.2, difficulty → the number of zeros a valid hash starts with\n",
        "            1.2.2, Methods:\n",
        "                1.2.2.1, create_genesis_block: a function to generate the genesis block\n",
        "                1.2.2.2, last_block: get the latest block of current blockchain\n",
        "                1.2.2.3, proof_of_work: given a block, generate the satisfied hash\n",
        "                1.2.2.4, add_block: verify and add the valid block to the current blockchain\n",
        "                1.2.2.5, is_valid_proof: verify if the block is satisfied of the given difficulty\n",
        "                1.2.2.6, mineTheNextBlock: given the last block and minerId, construct the next block\n",
        "    2, verifyChain: given a blockchain, verify if all the blocks in the chain that satisfy the given difficulty\n",
        "### Steps:\n",
        "    1, Use the above two classes to initialize a block chain and repeatedly call mineTheNextBlock function to generate the next block and store it in the blockchain\n",
        "    2, use verifyChain to verify if this blockchain is valid"
      ]
    },
    {
      "cell_type": "code",
      "metadata": {
        "id": "7l8I_7J6CwTM"
      },
      "source": [
        "from hashlib import sha256\n",
        "\n",
        "class Block:\n",
        "    def __init__(self, previous_hash, miner=0, nonce='0'):\n",
        "        self.miner = miner\n",
        "        self.previous_hash = previous_hash\n",
        "        self.nonce = nonce\n",
        "    \n",
        "    # a function to compute the hashcode of current string\n",
        "    def compute_hash(self):\n",
        "        block_string = self.previous_hash + str(self.miner) + str(self.nonce)\n",
        "        return sha256(block_string.encode()).hexdigest()\n",
        "\n",
        "class Blockchain: \n",
        "    difficulty = 4\n",
        "    # constructor\n",
        "    def __init__(self):\n",
        "        self.chain = []\n",
        "        self.create_genesis_block()\n",
        "    \n",
        "    # create the genesis_block\n",
        "    def create_genesis_block(self):\n",
        "        genesis_block = Block(\"\")\n",
        "        genesis_block.hash = self.proof_of_work(genesis_block)\n",
        "        self.chain.append(genesis_block)\n",
        "    \n",
        "    # get the latest block of current blockchain\n",
        "    @property\n",
        "    def last_block(self):\n",
        "        return self.chain[-1]\n",
        "    \n",
        "    # given a block, generate the satisfied hash\n",
        "    def proof_of_work(self, block):\n",
        "        computed_hash = block.compute_hash()\n",
        "        while not computed_hash.startswith('0' * Blockchain.difficulty):\n",
        "            block.nonce = nonce_generator(100 - len(block.previous_hash) - len(str(block.miner)))\n",
        "            computed_hash = block.compute_hash()\n",
        "        return computed_hash\n",
        "    \n",
        "    # verify and add the valid block to the current blockchain\n",
        "    def add_block(self, block, proof):\n",
        "        previous_hash = self.last_block.hash\n",
        "        \n",
        "        # this is not required, double check if the current block is constructed by the last block in this chain\n",
        "        #if previous_hash != block.previous_hash:\n",
        "            #return False\n",
        "        \n",
        "        # verify if the block if satisfied of the given difficulty\n",
        "        if not self.is_valid_proof(block, proof):\n",
        "            return False\n",
        "        block.hash = proof\n",
        "        self.chain.append(block)\n",
        "        return True\n",
        "    \n",
        "    # verify if the block if satisfied of the given difficulty\n",
        "    def is_valid_proof(self, block, block_hash):\n",
        "        return (block_hash.startswith('0' * Blockchain.difficulty) and\n",
        "                block_hash == block.compute_hash())\n",
        " \n",
        "    def mineTheNextBlock(self, miner = 0):\n",
        "        last_block = self.last_block\n",
        "        \n",
        "        # generate a new block based on the previous block\n",
        "        new_block = Block(previous_hash=last_block.hash, miner=miner)\n",
        "        \n",
        "        # compute the hash of the new block\n",
        "        proof = self.proof_of_work(new_block)\n",
        "        self.add_block(new_block, proof)\n",
        "\n",
        "# given a blockchain, verify if all the blocks in the chain that satisfy the given difficulty\n",
        "def verify_chain(block_hash):\n",
        "     return block_hash.startswith('0' * 4)"
      ],
      "execution_count": null,
      "outputs": []
    },
    {
      "cell_type": "code",
      "metadata": {
        "id": "acAQiUKhCwTN"
      },
      "source": [
        "# initialization\n",
        "blockChain = Blockchain()\n",
        "\n",
        "# generate 10 blocks in the chain\n",
        "for _ in range(10):\n",
        "    blockChain.mineTheNextBlock()\n",
        "\n",
        "# a list to store the nonce and miner of each block in the blockchain \n",
        "res = []\n",
        "\n",
        "# a list to store the result of verification \n",
        "verify = []\n",
        "\n",
        "for block in blockChain.chain:\n",
        "    verify.append(verify_chain(block.compute_hash()))\n",
        "    res.append({'nonce':block.nonce, 'miner':block.miner})"
      ],
      "execution_count": null,
      "outputs": []
    },
    {
      "cell_type": "code",
      "metadata": {
        "id": "NO25Jh73CwTO",
        "outputId": "8793a5bf-aed0-4069-d81a-634c92acc16c"
      },
      "source": [
        "res"
      ],
      "execution_count": null,
      "outputs": [
        {
          "output_type": "execute_result",
          "data": {
            "text/plain": [
              "[{'nonce': '63HTV6ZU0WX1BDEHVCNB5E3AJYRJ8NH7F1DP38X6Y3DYF14P6LMES2NKBEA2UXMAOHH7NPP6YEK8EHHU5IEGCZ44ZPS7CYMUHQV',\n",
              "  'miner': 0},\n",
              " {'nonce': '1G6RQO4SKW7SL8Q1LZYJCUQVN9FCAF48LNN', 'miner': 0},\n",
              " {'nonce': 'S3XGGLX78WZBLZS6D15A270ML20WH9MQNKY', 'miner': 0},\n",
              " {'nonce': '2CNO8TK0XYKHCN2YXBFQCUXCS6ORGX7S2L7', 'miner': 0},\n",
              " {'nonce': 'V2ESGPLP8G01Z1MW01QVB5Z982Y5HRNU61P', 'miner': 0},\n",
              " {'nonce': 'PVTM8MV4SRAJHEKOLY700SFAGTNRN9U7HV8', 'miner': 0},\n",
              " {'nonce': 'I6GJ5OX8X5K8AZ5P9L1T6JXR1K75EQPQ45B', 'miner': 0},\n",
              " {'nonce': 'AWGQSLEQYCJTHXIXUDKXBIYUB4E082TKT6Q', 'miner': 0},\n",
              " {'nonce': 'CGATZFFCIJU6NQ3129P1QL0B06SVF4SSBSG', 'miner': 0},\n",
              " {'nonce': '9TSE03D9YXUV9ACY1JOILJUFD7C2B04067X', 'miner': 0},\n",
              " {'nonce': 'ISS86L42JZR9QFTPW9Q4H59RLXV54PVSZJC', 'miner': 0}]"
            ]
          },
          "metadata": {
            "tags": []
          },
          "execution_count": 4
        }
      ]
    },
    {
      "cell_type": "code",
      "metadata": {
        "id": "ywz14534CwTP",
        "outputId": "a990f65e-21d4-4c30-e373-a4f77dfe1cd5"
      },
      "source": [
        "verify"
      ],
      "execution_count": null,
      "outputs": [
        {
          "output_type": "execute_result",
          "data": {
            "text/plain": [
              "[True, True, True, True, True, True, True, True, True, True, True]"
            ]
          },
          "metadata": {
            "tags": []
          },
          "execution_count": 5
        }
      ]
    },
    {
      "cell_type": "markdown",
      "metadata": {
        "id": "D5ArphTpCwTR"
      },
      "source": [
        "## Exercise 3. Multithreading"
      ]
    },
    {
      "cell_type": "markdown",
      "metadata": {
        "id": "XNdo7qcPCwTR"
      },
      "source": [
        "### Descriptions:\n",
        "\t1, input: the output format needed, the number of threads to use\n",
        "\t2, do_work: a function for each thread to output the information based on the given format\n",
        "\t3, main function:\n",
        "\t\t3.1, pattern: define the information format for each thread to output\n",
        "\t\t3.2, stop_threads: a monitor to check if we need to stop all threads, initialized to False. When it comes to be True, stop\n",
        "\t\t3.3, threads: a list containing all threads generated\n",
        "\t\t3.4, k: the number of threads we want to use\n",
        "### Steps:\n",
        "    1, initialize all the variables in main function\n",
        "    2, generate k threads, pass do_work to the threads, and start the threads\n",
        "    3, when needed, main thread can set stop_threads as True to stop all other thread\n"
      ]
    },
    {
      "cell_type": "code",
      "metadata": {
        "scrolled": true,
        "id": "uYGeXT3JCwTR",
        "outputId": "409a59f4-2711-498d-d27c-6b8209e99753"
      },
      "source": [
        "import threading\n",
        "from datetime import datetime\n",
        "import time\n",
        "\n",
        "# a function for each thread to output the information based on the given format\n",
        "def do_work(pattern, id, stop):\n",
        "    while True:\n",
        "        print(pattern.format(datetime.now(), id))\n",
        "        time.sleep(1)\n",
        "        # if stop is True, stop the current thread\n",
        "        if stop():\n",
        "            print(\"Thread-{} Exiting loop.\\n\".format(id))\n",
        "            break\n",
        "\n",
        "def main():\n",
        "    # define the information format for each thread to output\n",
        "    pattern = 'Thread-{1}: [{1}] -- time: {0:%b} {0:%d} {0:%H}:{0:%M}:{0:%S} {0:%Y} \\n'\n",
        "    \n",
        "    # a monitor to check if we need to stop all threads, initialized to False. When it comes to be True, stop\n",
        "    stop_threads = False\n",
        "    \n",
        "    # a list containing all threads generated\n",
        "    threads = []\n",
        "    \n",
        "    # the number of threads we want to use\n",
        "    k = 3\n",
        "    \n",
        "    for id in range(k):\n",
        "        #For something lightweight (no subclassing of Thread, no global variable), a lambda callback is an option\n",
        "        tmp = threading.Thread(target=do_work, args=(pattern, id, lambda: stop_threads), name=id)\n",
        "        threads.append(tmp)\n",
        "        tmp.start()\n",
        "    time.sleep(3)\n",
        "    print('main: done sleeping; time to stop the threads.\\n')\n",
        "    stop_threads = True\n",
        "    for thread in threads:\n",
        "        thread.join()\n",
        "    print('Finis.')\n",
        "main()"
      ],
      "execution_count": null,
      "outputs": [
        {
          "output_type": "stream",
          "text": [
            "Thread-0: [0] -- time: Jul 26 03:47:03 2021 \n",
            "\n",
            "Thread-1: [1] -- time: Jul 26 03:47:03 2021 \n",
            "\n",
            "Thread-2: [2] -- time: Jul 26 03:47:03 2021 \n",
            "\n",
            "Thread-0: [0] -- time: Jul 26 03:47:04 2021 \n",
            "Thread-2: [2] -- time: Jul 26 03:47:04 2021 \n",
            "\n",
            "Thread-1: [1] -- time: Jul 26 03:47:04 2021 \n",
            "\n",
            "\n",
            "Thread-2: [2] -- time: Jul 26 03:47:05 2021 \n",
            "Thread-1: [1] -- time: Jul 26 03:47:05 2021 \n",
            "Thread-0: [0] -- time: Jul 26 03:47:05 2021 \n",
            "\n",
            "\n",
            "\n",
            "main: done sleeping; time to stop the threads.\n",
            "\n",
            "Thread-2 Exiting loop.\n",
            "Thread-1 Exiting loop.\n",
            "Thread-0 Exiting loop.\n",
            "\n",
            "\n",
            "\n",
            "Finis.\n"
          ],
          "name": "stdout"
        }
      ]
    },
    {
      "cell_type": "markdown",
      "metadata": {
        "id": "jM9tuCGFCwTS"
      },
      "source": [
        "## Exercise 4. Inter-thread communication"
      ]
    },
    {
      "cell_type": "markdown",
      "metadata": {
        "id": "yzjT1DwRCwTS"
      },
      "source": [
        "## Descriptions:\n",
        "\t1, input: the number of threads to use\n",
        "\t2, send_receive: a function for each thread to send and receive the information\n",
        "\t\tFor example, it is the i-th thread now\n",
        "        2.1, print \n",
        "                Thread-i sending message to all other threads  \n",
        "        2.2, insert the the threadId i into the queue\n",
        "        2.3, read threadId from the queue if one is immediately available, otherwise, q will throw out an Empty Exception,         we continue reading, until we read k - 1 items from the queue\n",
        "        2.4, once get an threadId j, print \n",
        "                Thread- i received message from Thread- j \n",
        "\t3, main function:\n",
        "\t\t3.1, q: a global synchronized queue to store the information shared by threads\n",
        "\t\t3.2, threads: a list to store threads created\n",
        "\t\t3.3, k: the number of threads we want to use\n",
        "## Steps:\n",
        "    1, initialize all the variables in main function\n",
        "    2, generate k threads, pass send_receive to each threads, and start all the threads\n",
        "    3, make all threads join back the main thread and make sure they print all messages in q\n"
      ]
    },
    {
      "cell_type": "code",
      "metadata": {
        "id": "C8ozEeh0CwTS",
        "outputId": "78166c59-d5a7-4359-bf3f-e3545c69f097"
      },
      "source": [
        "from queue import Queue\n",
        "import threading\n",
        "import time\n",
        "\n",
        "# a function for each thread to send and receive the information\n",
        "def send_receive(q, k, i):\n",
        "    print(\"Thread-{0} sending message to all other threads  \\n\".format(i))\n",
        "    for _ in range(k - 1):\n",
        "        q.put(i)\n",
        "    \n",
        "    # wait 3 seconds to make sure every other threads start\n",
        "    time.sleep(3)\n",
        "    \n",
        "    # using a set to check if receive this message before\n",
        "    received = set()\n",
        "    \n",
        "    # the count of messages the current thread gets so far\n",
        "    count = 0\n",
        "    while True:\n",
        "        try:\n",
        "            # read threadId from the queue if one is immediately available, otherwise, continue reading\n",
        "            cur_data = q.get(block=False)\n",
        "            \n",
        "            # if the current get threadId is same as this threadId, it means we get the info sent by itself,\n",
        "            # we need to put it back\n",
        "            # if the current read threadId is in the set, it means we already get the info from this thread,\n",
        "            # we need to put it back\n",
        "            if cur_data == i or cur_data in received:\n",
        "                q.put(cur_data)\n",
        "            else:\n",
        "                # it is a valid info, we put it into the set and print it out\n",
        "                received.add(cur_data)\n",
        "                print(\"Thread-{0} received message from Thread-{1}  \\n\".format(i, cur_data))\n",
        "                count += 1\n",
        "                # if the count is k - 1, it means we already get all the info sent from others\n",
        "                if count == k - 1:\n",
        "                    break\n",
        "        except:\n",
        "            pass\n",
        "\n",
        "def main():     \n",
        "    # Create the shared queue and launch both threads\n",
        "    q = Queue()\n",
        "    threads = []\n",
        "    k = 3\n",
        "    for i in range(k):\n",
        "        tmp = threading.Thread(target = send_receive,\n",
        "                               args = (q, k, i))\n",
        "        threads.append(tmp)\n",
        "    for i in range(k):\n",
        "        threads[i].start()\n",
        "    for i in range(k):\n",
        "        threads[i].join()\n",
        "main()"
      ],
      "execution_count": null,
      "outputs": [
        {
          "output_type": "stream",
          "text": [
            "Thread-0 sending message to all other threads  \n",
            "\n",
            "Thread-1 sending message to all other threads  \n",
            "\n",
            "Thread-2 sending message to all other threads  \n",
            "\n",
            "Thread-0 received message from Thread-1  \n",
            "Thread-1 received message from Thread-0  \n",
            "\n",
            "Thread-1 received message from Thread-2  \n",
            "Thread-2 received message from Thread-1  \n",
            "\n",
            "\n",
            "Thread-2 received message from Thread-0  \n",
            "\n",
            "\n",
            "Thread-0 received message from Thread-2  \n",
            "\n"
          ],
          "name": "stdout"
        }
      ]
    },
    {
      "cell_type": "markdown",
      "metadata": {
        "collapsed": true,
        "id": "56QufqHFCwTT"
      },
      "source": [
        "## Exercise 5. Decentralizing the blockchain"
      ]
    },
    {
      "cell_type": "markdown",
      "metadata": {
        "id": "BGE5bvvoCwTT"
      },
      "source": [
        "### Descriptions:\n",
        "    1, Construct two classes for the future using\n",
        "        1.1, Block\n",
        "            1.1.1, Attributes:\n",
        "                1.1.1.1, Id of miner\n",
        "                1.1.1.2, hashcode of previous block, default value is  “”\n",
        "                1.1.1.3, nonce, default value is  “0”\n",
        "                1.1.1.4, hash, final hash in the this block\n",
        "            1.1.2, Method: compute_hash: a function to compute the hashcode of current string\n",
        "        1.2, Blockchain\n",
        "            1.2.1, Attributes: \n",
        "                1.2.1.1, chain → a list that contains all blocks computed so far\n",
        "                1.2.1.2, difficulty → the number of zeros a valid hash starts with\n",
        "                1.2.1.3, flag → a boolean value to denote if we need to create a genesis block\n",
        "            1.2.2, Methods:\n",
        "                1.2.2.1, create_genesis_block: a function to generate the genesis block\n",
        "                1.2.2.2, last_block: get the latest block of current blockchain\n",
        "                1.2.2.3, proof_of_work: given a block, generate the satisfied hash\n",
        "                1.2.2.4, mineTheNextBlock: given the last block and minerId, compute and validate the proof for the next block\n",
        "                1.2.2.5, optional, we can set a timer inside this function to control the time used to find the next mine\n",
        "                    I, if the new proof is valid, add it to the current blockchain and return True\n",
        "                    II, otherwise, return False\n",
        "    2, verifyChain: given a blockchain, verify if all the blocks in the chain that satisfy the given difficulty\n",
        "    3, is_valid_proof: verify if the hash given is satisfied of the given difficulty\n",
        "    4, copyBlockchain: a function to deep copy the given blockchain\n",
        "    5, nonce_generator: randomly generate a string with the given length\n",
        "    6, start_work: a function for each thread to create a blockchain, mine the new blocks and communicate with other threads \n",
        "        For example, it is the i - th thread now\n",
        "        6.1, initialize a blockchain\n",
        "        6.2, while the length of this chain is smaller than 10 blocks\n",
        "            6.2.1,  use mineTheNextBlock to get the new block\n",
        "            6.2.2, if the return value of mineTheNextBlock is True, deep copy the current blockchain and put it into the queue\n",
        "            6.2.3, reading all chains in the queue and put all valid chains into a list, incomingChains\n",
        "            a, if the miner of the last block in the incoming chain is not i, put this chain into incomingChains\n",
        "            b, else, break the loop\n",
        "            6.2.3, if we get any incoming chain\n",
        "                 and if every block in the incoming chain is validate \n",
        "                 and if the length of incoming chain is longer than the current chain \n",
        "             → replace the current chain by the incoming chain\n",
        "        6.3, if the current chain just have 10 block, put it into the result, and set the threadControl event to stop all other threads\n",
        "    7, main function:\n",
        "        7.1, q: a global synchronized queue to store the information shared by threads\n",
        "            7.2, threads: a list to store threads created\n",
        "            7.3, k: the number of threads we want to use\n",
        "            7.4, targetNumber: the number of blocks we want to mine\n",
        "            7.5, threadControl: an Event object to monitor and control if we need to stop all threads other than the main thread\n",
        "            7.6, result: a global synchronized queue to store the final blockchain from these threads\n",
        "            7.7, queueLock: a Lock object to make sure there will not any interruption while a thread is reading incoming chains from q\n",
        "\n",
        "\n",
        "### Steps:\n",
        "    1, initialize all the variables in the main function and activate all threads to run start_work\n",
        "    2, once the threadControl is set, make stop_threads to True, and stop all other threads\n",
        "    3, get the final blockchain from the result. Verify and print all blocks in the chain\n"
      ]
    },
    {
      "cell_type": "code",
      "metadata": {
        "id": "WM2lNVheCwTT"
      },
      "source": [
        "from queue import Queue\n",
        "import threading\n",
        "import time\n",
        "from datetime import datetime\n",
        "\n",
        "from hashlib import sha256\n",
        "\n",
        "import random\n",
        "import string\n",
        "\n",
        "class Block:\n",
        "    def __init__(self, miner, previous_hash=\"\", nonce='0'):\n",
        "        self.miner = miner # Id of miner\n",
        "        self.previous_hash = previous_hash # hashcode of previous block\n",
        "        self.nonce = nonce\n",
        "        block_string = previous_hash + str(miner) + str(nonce)\n",
        "        self.hash = sha256(block_string.encode()).hexdigest()\n",
        "\n",
        "    #  a function to compute the hashcode of current string\n",
        "    def compute_hash(self):\n",
        "        block_string = self.previous_hash + str(self.miner) + str(self.nonce)\n",
        "        return sha256(block_string.encode()).hexdigest()\n",
        "\n",
        "class Blockchain: \n",
        "    difficulty = 4\n",
        "    def __init__(self, miner, flag = True):\n",
        "        self.miner = miner # Id of miner\n",
        "        self.chain = [] # a list that contains all blocks computed so far\n",
        "        # if flag is True, it means we are creating a blockchain from scratch and we need to create a genesis block\n",
        "        # if flag is False, it means we are creating a copy of other blockchain \n",
        "        # and we do not need to create the genesis block\n",
        "        if flag:\n",
        "            self.create_genesis_block(miner)\n",
        "    # a function to generate the genesis block\n",
        "    def create_genesis_block(self, miner):\n",
        "        genesis_block = Block(miner)\n",
        "        genesis_block.hash = self.proof_of_work(genesis_block, miner)\n",
        "        self.chain.append(genesis_block)\n",
        "    \n",
        "    @property\n",
        "    def last_block(self):\n",
        "        return self.chain[-1]\n",
        "    \n",
        "    # given a block, find the valid hash\n",
        "    def proof_of_work(self, block, miner):\n",
        "        computed_hash = block.compute_hash()\n",
        "        #t1 = time.time()\n",
        "        while not computed_hash.startswith('0' * Blockchain.difficulty):\n",
        "            # optional, using to set a timer to contral the time used to get a mine\n",
        "            '''t2 = time.time()\n",
        "            if t2 - t1 > 3:\n",
        "                return None'''\n",
        "            block.nonce = nonce_generator(100 - len(block.previous_hash) - len(str(block.miner)))\n",
        "            computed_hash = block.compute_hash()\n",
        "        return computed_hash\n",
        "    \n",
        "    # given minerId, compute and validate the proof for the next block\n",
        "    def mineTheNextBlock(self, miner):                              \n",
        "        last_block = self.last_block\n",
        "        new_block = Block(previous_hash=last_block.hash, nonce=nonce_generator(), miner=miner)\n",
        "        proof = self.proof_of_work(new_block, miner)\n",
        "        # if the new block is valid, add it to the chain\n",
        "        if is_valid_proof(new_block, proof):\n",
        "            new_block.hash = proof\n",
        "            self.chain.append(new_block)\n",
        "            return True\n",
        "        else:\n",
        "            return False\n",
        "\n",
        "# given a blockchain, verify if all the blocks in the chain that satisfy the given difficulty     \n",
        "def verifyChain(blockChain):\n",
        "    for block in blockChain.chain:\n",
        "        if not is_valid_proof(block, block.hash):\n",
        "            return False\n",
        "    return True\n",
        "\n",
        "# verify if the hash given is satisfied of the given difficulty\n",
        "def is_valid_proof(block, block_hash):\n",
        "    if not block_hash:\n",
        "        return False\n",
        "    return (block_hash.startswith('0' * 4) and\n",
        "                block_hash == block.compute_hash())\n",
        "\n",
        "# deep copy the given blockchain\n",
        "def copyBlockchain(blockchain):\n",
        "    newChain = []\n",
        "    for block in blockchain.chain:\n",
        "        tmp = Block(miner=block.miner, previous_hash=block.previous_hash[:], nonce=block.nonce[:])\n",
        "        newChain.append(tmp)\n",
        "    newBc = Blockchain(blockchain.miner, False)\n",
        "    newBc.chain = newChain\n",
        "    return newBc\n",
        "\n",
        "def nonce_generator(size = 100, chars=string.ascii_uppercase + string.digits):\n",
        "    return ''.join(random.choice(chars) for _ in range(size))\n",
        "\n",
        "def start_work(id, stop, threadControl, targetNumber):\n",
        "    print(\"Thread-{0} get to work  \\n\".format(id))\n",
        "    # initialize a blockchain\n",
        "    blockChain = Blockchain(id)\n",
        "    \n",
        "    while len(blockChain.chain) < targetNumber:        \n",
        "        # if True, it means we already get the target chain, stop the current process\n",
        "        if stop():\n",
        "            return\n",
        "        \n",
        "        # if the return value of mineTheNextBlock is True, deep copy the current blockchain and put it into q\n",
        "        if blockChain.mineTheNextBlock(id):\n",
        "            q.put(copyBlockchain(blockChain))\n",
        "        \n",
        "        # a list to store all incoming chain\n",
        "        incomingChains = []\n",
        "        \n",
        "        # lock to make sure there will not any interruption while a thread is reading incoming chains from q\n",
        "        queueLock.acquire()\n",
        "        while True:\n",
        "            try:\n",
        "                 # read threadId from the queue if one is immediately available, otherwise, continue reading\n",
        "                incomingChain = q.get(block=False)\n",
        "                \n",
        "                # if the miner of the last block in the incoming chain is i,\n",
        "                # it means the incoming chain is the current chain, we need to put it back and stop reading\n",
        "                if incomingChain.miner == blockChain.miner:\n",
        "                        q.put(incomingChain)\n",
        "                        break\n",
        "                incomingChains.append(incomingChain)\n",
        "\n",
        "            except:\n",
        "                break\n",
        "        queueLock.release()\n",
        "        if len(incomingChains) > 0:\n",
        "            for incomingChain in incomingChains:\n",
        "                # if every block in the incoming chain is valid and the length of incoming chain is longer than the current chain\n",
        "                # replace the current chain with the incoming chain\n",
        "                if verifyChain(incomingChain) and len(incomingChain.chain) > len(blockChain.chain) and len(incomingChains) <= targetNumber: \n",
        "                    blockChain = incomingChain\n",
        "    \n",
        "    # if the current chain has the corrct number of blocks, add this chain to result\n",
        "    if len(blockChain.chain) == targetNumber:\n",
        "        result.put(blockChain)\n",
        "        threadControl.set()"
      ],
      "execution_count": null,
      "outputs": []
    },
    {
      "cell_type": "code",
      "metadata": {
        "id": "OLjlrYf2CwTU",
        "outputId": "5aa53c07-4deb-4fc7-e5ab-09d314aeb93e"
      },
      "source": [
        "# a global synchronized queue to store the information shared by threads\n",
        "q = Queue()\n",
        "\n",
        "threads = [] # a list to store threads created\n",
        "k = 5 # number of threads\n",
        "targetNumber = 10 # number of blocks need to build\n",
        "\n",
        "# an Event object to monitor and control if we need to stop all threads other than the main thread\n",
        "threadControl = threading.Event()\n",
        "\n",
        "# a global synchronized queue to store the final blockchain from these threads\n",
        "result = Queue()\n",
        "\n",
        "# a monitor to check if we need to stop all threads, initialized to be False. \n",
        "# When it comes to be True, will stop all threads except the main thread\n",
        "stop_threads = False\n",
        "\n",
        "# a Lock object to make sure there will not any interruption while a thread is reading incoming chains from q\n",
        "queueLock = threading.Lock()\n",
        "\n",
        "# initialize and start all threads\n",
        "for i in range(k):\n",
        "    tmp = threading.Thread(target = start_work, \n",
        "                           args=(i,\n",
        "                                 lambda: stop_threads,\n",
        "                                 threadControl,\n",
        "                                 targetNumber), \n",
        "                           name = i\n",
        "                          )\n",
        "    threads.append(tmp)\n",
        "    tmp.start()\n",
        "\n",
        "while True:\n",
        "    # once the Event threadControl is set, stop all other threads\n",
        "    if threadControl.isSet():\n",
        "        print('Already got the chain, stop all the threads')\n",
        "        stop_threads = True\n",
        "        break\n",
        "        \n",
        "for thread in threads:\n",
        "    thread.join()\n",
        "    \n",
        "print('Finis.')"
      ],
      "execution_count": null,
      "outputs": [
        {
          "output_type": "stream",
          "text": [
            "Thread-0 get to work  \n",
            "\n",
            "Thread-1 get to work  \n",
            "\n",
            "Thread-2 get to work  \n",
            "\n",
            "Thread-3 get to work  \n",
            "\n",
            "Thread-4 get to work  \n",
            "\n",
            "Already got the chain, stop all the threads\n",
            "Finis.\n"
          ],
          "name": "stdout"
        }
      ]
    },
    {
      "cell_type": "code",
      "metadata": {
        "id": "e9bcTLyfCwTV"
      },
      "source": [
        "blockChain = result.get()\n",
        "res = []\n",
        "proof = []\n",
        "for block in blockChain.chain:\n",
        "    res.append({'nonce':block.nonce, 'miner':block.miner})\n",
        "    proof.append(block.hash)"
      ],
      "execution_count": null,
      "outputs": []
    },
    {
      "cell_type": "code",
      "metadata": {
        "id": "3Bp35SjwCwTV",
        "outputId": "bdc08f32-415b-4da6-aaed-4f6bb9778d17"
      },
      "source": [
        "res"
      ],
      "execution_count": null,
      "outputs": [
        {
          "output_type": "execute_result",
          "data": {
            "text/plain": [
              "[{'nonce': '2NIEZEAD1ZLRQP6SSYG3NFN4OI9L8QSBVPV8R9GIVHQEKNQT8LI92R92PJJPGRYVTD56KZL4PEU95C9EKAH40KKPOVVQ7MV7V3N',\n",
              "  'miner': 0},\n",
              " {'nonce': 'QOMOYOOPIRLJS3HDAH1B41WWEL0ATGRNERI', 'miner': 0},\n",
              " {'nonce': 'PLO4SYCSXBUM3EDP22RAZYJMXCLNYHE126U', 'miner': 0},\n",
              " {'nonce': 'TSP54RRA7M775UC8L8ZFX07PBZ56N8U8GC9', 'miner': 0},\n",
              " {'nonce': 'U7X0KHWEDMVFOCSZBVAHR26MR2XF08U51YA', 'miner': 3},\n",
              " {'nonce': 'W275WY7M1RUBFWBB53LSU7QR6LIDCVXLR35', 'miner': 1},\n",
              " {'nonce': 'NMP5MYSJW10OHOJB4XD4IP1AIPL32JY9VO2', 'miner': 1},\n",
              " {'nonce': 'QKSCV4O2FQT8GUUEOHZD11LY3IFUXKMQ21C', 'miner': 1},\n",
              " {'nonce': 'MSA0SEL4T1GRQTJIYLCYJ1AEQOXX0T8M17V', 'miner': 2},\n",
              " {'nonce': 'QH0J2XDJ1996AN3N1CL2B9OZQLDG6LC3SWK', 'miner': 2}]"
            ]
          },
          "metadata": {
            "tags": []
          },
          "execution_count": 4
        }
      ]
    },
    {
      "cell_type": "code",
      "metadata": {
        "id": "4JBY-8m-CwTV",
        "outputId": "6ee42b3a-4e62-46d3-b15f-1ea32e9500f3"
      },
      "source": [
        "proof"
      ],
      "execution_count": null,
      "outputs": [
        {
          "output_type": "execute_result",
          "data": {
            "text/plain": [
              "['0000086d9290a6621857a594ad553862954ddcfcdaf89dcf5cf0088e6d4163d5',\n",
              " '00007f9786d588f41ad1640e97acdece24a5fbf9eb0288e3b332cbed0b5f396d',\n",
              " '000063c9277ee4c5de3c567a08905cfb433061ea210d56783046e6f6d089a346',\n",
              " '00008ce179ec3d5c555baba1cf47179a1586e5368c3a00dcf085a4162ddab800',\n",
              " '0000642b727b692ff5106eabada4a04ce83822fb83e2ab2b488e57afd65a9138',\n",
              " '0000a4fb69cd2204b28d91e3a83f36d62b4a61371daf48b2b8cbd5e036df8dfd',\n",
              " '00003d86f95108bece6b2a52b9762d785f79653159dfad92775515a0e46428ee',\n",
              " '00003e6c6da6da096ef82145f05214923ded9147dcbd90bd738035a164f6ae47',\n",
              " '0000d6fac023dd48c6d029f1029c512ff97e5b8b3e4528724bdd2602e9e4d94c',\n",
              " '000032a8acef8e74d877e1448a31fb32843bdda21f9d2d278303a215bb445f66']"
            ]
          },
          "metadata": {
            "tags": []
          },
          "execution_count": 5
        }
      ]
    },
    {
      "cell_type": "markdown",
      "metadata": {
        "id": "fawjg9wlCwTW"
      },
      "source": [
        "### Does this blockchain scale? What happens when the number of threads go up?\n",
        "\n",
        "Yes, I built two classes, Block and Blockchain, to make this blockchain eaier to scale\n",
        "\n",
        "with the increasing number of threads used, in the beginning, the program will be faster, but it will slow down if we use too many threads\n",
        "\n",
        "There are several limitation that may affect the performance of a program. For example, CPU resources and RAM resources are finite and any one can limit the performance of a program."
      ]
    },
    {
      "cell_type": "markdown",
      "metadata": {
        "id": "H6zaUHnkCwTW"
      },
      "source": [
        "### If one thread stopped working, does it affect the blockchain? What if the thread comes back on later?\n",
        "\n",
        "It depends. \n",
        "\n",
        "If this thread is a main thread, it depends on if the rest of other threads is deamon thread or not. All non-daemon threads will stop working if main thread stopped. And if there are not any alive non-daemon thread, the JVM will exit. \n",
        "\n",
        "If this thread is not a main thread, it generally will not affect others. But if all threads are in a same process, they will share heap, static memory segment and os resource. So it is still possible to affect the blockchain."
      ]
    },
    {
      "cell_type": "markdown",
      "metadata": {
        "id": "5YtCN2e5CwTW"
      },
      "source": [
        "### What if we require the SHA256 hashes to start with more zeros?\n",
        "\n",
        "It will take longer time to get the result"
      ]
    },
    {
      "cell_type": "markdown",
      "metadata": {
        "id": "mIMIvkzGCwTW"
      },
      "source": [
        "### Is it easy for a “malicious thread” to modify the miner fields in the chain\n",
        "\n",
        "It depends on if this malicious thread is running on the same process with the chain. If so, since they are sharing same memory space, it is possible to modify the miner fields. But if they are running on different processes, it should be a lot more difficult."
      ]
    },
    {
      "cell_type": "markdown",
      "metadata": {
        "id": "nASSVRhRCwTW"
      },
      "source": [
        "### How long did it take?\n",
        "Around 10 - 12 hours"
      ]
    },
    {
      "cell_type": "markdown",
      "metadata": {
        "id": "fYKp4qABCwTW"
      },
      "source": [
        "### What’s the most difficult part? \n",
        "Since I do not have any on-field experience related to blockchain, so it takes me some time to understand the logic, concepts and terminoloies in blockchain area"
      ]
    },
    {
      "cell_type": "markdown",
      "metadata": {
        "id": "xjD92ry9CwTW"
      },
      "source": [
        "### Any other feedback for the problem or the process?\n",
        "They are interesting questions. \n",
        "\n",
        "And I can tell that this person who designs this OA must spend some time on designing those questions. The questions are ranked from easy to hard. And it feels like the first 4 questions are separated from the last question. So it is helpful for someone who does not familiar with the blockchain area to get started with.\n",
        "\n",
        "After I complete this OA, I feel that I learned a lot about blockchain and muti-threading."
      ]
    }
  ]
}